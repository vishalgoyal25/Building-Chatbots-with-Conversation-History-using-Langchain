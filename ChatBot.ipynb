{
 "cells": [
  {
   "cell_type": "markdown",
   "id": "79365899",
   "metadata": {},
   "source": [
    "## Building A Chatbot\n",
    "\n",
    "Design and implement an LLM-powered chatbot. \n",
    "This chatbot will be able to have a conversation and remember previous interactions.\n"
   ]
  },
  {
   "cell_type": "code",
   "execution_count": 3,
   "id": "41d2b2f8",
   "metadata": {},
   "outputs": [
    {
     "data": {
      "text/plain": [
       "True"
      ]
     },
     "execution_count": 3,
     "metadata": {},
     "output_type": "execute_result"
    }
   ],
   "source": [
    "import os\n",
    "from dotenv import load_dotenv\n",
    "load_dotenv()"
   ]
  },
  {
   "cell_type": "code",
   "execution_count": 52,
   "id": "b3aa4bc0",
   "metadata": {},
   "outputs": [],
   "source": [
    "groq_api_key = os.getenv(\"GROQ_API_KEY\")"
   ]
  },
  {
   "cell_type": "code",
   "execution_count": 5,
   "id": "5b663a08",
   "metadata": {},
   "outputs": [
    {
     "data": {
      "text/plain": [
       "ChatGroq(client=<groq.resources.chat.completions.Completions object at 0x000001D385459EE0>, async_client=<groq.resources.chat.completions.AsyncCompletions object at 0x000001D3855099D0>, model_name='Gemma2-9b-It', model_kwargs={}, groq_api_key=SecretStr('**********'))"
      ]
     },
     "execution_count": 5,
     "metadata": {},
     "output_type": "execute_result"
    }
   ],
   "source": [
    "from langchain_groq import ChatGroq\n",
    "\n",
    "model= ChatGroq(model=\"Gemma2-9b-It\", groq_api_key= groq_api_key)\n",
    "model"
   ]
  },
  {
   "cell_type": "code",
   "execution_count": 6,
   "id": "a73bbf83",
   "metadata": {},
   "outputs": [
    {
     "data": {
      "text/plain": [
       "AIMessage(content=\"Hi Vishal! \\n\\nIt's great to meet you. It's awesome that you're learning about Generative AI. It's a really exciting field with a lot of potential. \\n\\nWhat specifically are you interested in learning about generative AI? \\n\\nPerhaps I can help you with:\\n\\n* **Understanding the basics** of how generative models work\\n* **Exploring different types of generative models** like GANs, VAEs, and diffusion models\\n* **Learning about applications** of generative AI in areas like text generation, image creation, music composition, and more\\n* **Finding resources** for learning more about generative AI\\n\\nJust let me know what you'd like to explore!\\n\", additional_kwargs={}, response_metadata={'token_usage': {'completion_tokens': 147, 'prompt_tokens': 25, 'total_tokens': 172, 'completion_time': 0.267272727, 'prompt_time': 0.001398249, 'queue_time': 0.253481372, 'total_time': 0.268670976}, 'model_name': 'Gemma2-9b-It', 'system_fingerprint': 'fp_10c08bf97d', 'service_tier': 'on_demand', 'finish_reason': 'stop', 'logprobs': None}, id='run--05a9227a-ae9f-432b-82c0-81c525eeab34-0', usage_metadata={'input_tokens': 25, 'output_tokens': 147, 'total_tokens': 172})"
      ]
     },
     "execution_count": 6,
     "metadata": {},
     "output_type": "execute_result"
    }
   ],
   "source": [
    "from langchain_core.messages import HumanMessage\n",
    "\n",
    "model.invoke([HumanMessage(content=\"Hi , My name is Vishal Goyal and I am Learning Generative AI\")])"
   ]
  },
  {
   "cell_type": "code",
   "execution_count": 7,
   "id": "d286eec8",
   "metadata": {},
   "outputs": [
    {
     "data": {
      "text/plain": [
       "AIMessage(content=\"You are Vishal Goyal, and you are learning about Generative AI! \\n\\nIs there anything else you'd like to know or discuss about generative AI? I'm here to help. 😊  \\n\", additional_kwargs={}, response_metadata={'token_usage': {'completion_tokens': 46, 'prompt_tokens': 186, 'total_tokens': 232, 'completion_time': 0.083636364, 'prompt_time': 0.004378759, 'queue_time': 0.25317375599999997, 'total_time': 0.088015123}, 'model_name': 'Gemma2-9b-It', 'system_fingerprint': 'fp_10c08bf97d', 'service_tier': 'on_demand', 'finish_reason': 'stop', 'logprobs': None}, id='run--aa6e08eb-3b30-4fe0-9de5-9f1dd262c733-0', usage_metadata={'input_tokens': 186, 'output_tokens': 46, 'total_tokens': 232})"
      ]
     },
     "execution_count": 7,
     "metadata": {},
     "output_type": "execute_result"
    }
   ],
   "source": [
    "from langchain_core.messages import AIMessage\n",
    "\n",
    "model.invoke(\n",
    "    [\n",
    "        HumanMessage(content= \"Hi , My name is Vishal Goyal and I am Learning Generative AI\"),\n",
    "        AIMessage(content= \"Hello Vishal Goyal!\\n\\nIt's great to meet you! \\n\\nLearning about Generative AI is exciting. It's a rapidly evolving field with incredible potential. \\n\\nWhat specifically are you interested in learning about generative AI? \\n\\nAre you looking to:\\n\\n* **Understand the fundamental concepts?** \\n* **Explore different types of generative models...like GANs, VAEs, etc.?**\\n* **Learn how to build your own generative AI models?**\\n* **Discover the applications of generative AI in different industries?**\\n\\nTell me more about your goals, and I'll do my best to help you on your generative AI journey!\"),\n",
    "        \n",
    "        HumanMessage(content= \"Hey, What's my name and what do I do?\")\n",
    "    ]\n",
    ")"
   ]
  },
  {
   "cell_type": "markdown",
   "id": "c407a5d9",
   "metadata": {},
   "source": [
    "### Message History"
   ]
  },
  {
   "cell_type": "code",
   "execution_count": 8,
   "id": "e813f886",
   "metadata": {},
   "outputs": [],
   "source": [
    "from langchain_community.chat_message_histories import ChatMessageHistory\n",
    "\n",
    "from langchain_core.chat_history import BaseChatMessageHistory\n",
    "\n",
    "from langchain_core.runnables.history import RunnableWithMessageHistory"
   ]
  },
  {
   "cell_type": "code",
   "execution_count": 9,
   "id": "4458246a",
   "metadata": {},
   "outputs": [],
   "source": [
    "store = {}\n",
    "\n",
    "def get_session_history(session_id:str)-> BaseChatMessageHistory:\n",
    "    if session_id not in store:\n",
    "        store[session_id]= ChatMessageHistory()\n",
    "    return store[session_id]\n",
    "\n",
    "\n",
    "with_message_history= RunnableWithMessageHistory(model, get_session_history)"
   ]
  },
  {
   "cell_type": "code",
   "execution_count": 10,
   "id": "50a397ee",
   "metadata": {},
   "outputs": [],
   "source": [
    "config= {\"configurable\": {\"session_id\": \"chat1\"} }"
   ]
  },
  {
   "cell_type": "code",
   "execution_count": 11,
   "id": "69da62a4",
   "metadata": {},
   "outputs": [
    {
     "data": {
      "text/plain": [
       "AIMessage(content=\"Hi Vishal Goyal,\\n\\nIt's great to meet you!  Learning about generative AI is exciting.  It's a rapidly developing field with lots of potential.\\n\\nWhat specifically are you interested in learning about generative AI? \\n\\nFor example, are you curious about:\\n\\n* **Specific models** like GPT-3, DALL-E, or Stable Diffusion?\\n* **How they work** (e.g., transformers, GANs)?\\n* **Applications** like text generation, image creation, or music composition?\\n* **Ethical considerations** surrounding generative AI?\\n\\nKnowing your interests will help me give you more tailored and helpful information.\\n\\nI'm here to help you on your journey!  Let me know what you'd like to explore.\\n\", additional_kwargs={}, response_metadata={'token_usage': {'completion_tokens': 163, 'prompt_tokens': 25, 'total_tokens': 188, 'completion_time': 0.296363636, 'prompt_time': 0.0013996, 'queue_time': 0.25430303, 'total_time': 0.297763236}, 'model_name': 'Gemma2-9b-It', 'system_fingerprint': 'fp_10c08bf97d', 'service_tier': 'on_demand', 'finish_reason': 'stop', 'logprobs': None}, id='run--766e9ec8-edfd-4e6b-9768-f9132a1b465d-0', usage_metadata={'input_tokens': 25, 'output_tokens': 163, 'total_tokens': 188})"
      ]
     },
     "execution_count": 11,
     "metadata": {},
     "output_type": "execute_result"
    }
   ],
   "source": [
    "response= with_message_history.invoke(\n",
    "        [HumanMessage(content=\"Hi , My name is Vishal Goyal and I am Learning Generative AI\")],\n",
    "        config= config\n",
    ")\n",
    "\n",
    "response"
   ]
  },
  {
   "cell_type": "code",
   "execution_count": 12,
   "id": "8d3ea30e",
   "metadata": {},
   "outputs": [
    {
     "data": {
      "text/plain": [
       "\"Hi Vishal Goyal,\\n\\nIt's great to meet you!  Learning about generative AI is exciting.  It's a rapidly developing field with lots of potential.\\n\\nWhat specifically are you interested in learning about generative AI? \\n\\nFor example, are you curious about:\\n\\n* **Specific models** like GPT-3, DALL-E, or Stable Diffusion?\\n* **How they work** (e.g., transformers, GANs)?\\n* **Applications** like text generation, image creation, or music composition?\\n* **Ethical considerations** surrounding generative AI?\\n\\nKnowing your interests will help me give you more tailored and helpful information.\\n\\nI'm here to help you on your journey!  Let me know what you'd like to explore.\\n\""
      ]
     },
     "execution_count": 12,
     "metadata": {},
     "output_type": "execute_result"
    }
   ],
   "source": [
    "response.content"
   ]
  },
  {
   "cell_type": "code",
   "execution_count": 13,
   "id": "2100bf46",
   "metadata": {},
   "outputs": [
    {
     "data": {
      "text/plain": [
       "AIMessage(content='Your name is Vishal Goyal.  \\n\\nI remember that from our introduction! 😊  How can I help you further today?  \\n\\n', additional_kwargs={}, response_metadata={'token_usage': {'completion_tokens': 32, 'prompt_tokens': 202, 'total_tokens': 234, 'completion_time': 0.058181818, 'prompt_time': 0.004835289, 'queue_time': 0.254443896, 'total_time': 0.063017107}, 'model_name': 'Gemma2-9b-It', 'system_fingerprint': 'fp_10c08bf97d', 'service_tier': 'on_demand', 'finish_reason': 'stop', 'logprobs': None}, id='run--65388514-ec2e-4b6a-ad06-8bce2cd9e284-0', usage_metadata={'input_tokens': 202, 'output_tokens': 32, 'total_tokens': 234})"
      ]
     },
     "execution_count": 13,
     "metadata": {},
     "output_type": "execute_result"
    }
   ],
   "source": [
    "with_message_history.invoke(\n",
    "    [HumanMessage(content=\"What's my name?\")],\n",
    "    config= config,\n",
    ")"
   ]
  },
  {
   "cell_type": "markdown",
   "id": "a8015969",
   "metadata": {},
   "source": [
    "#### Let's change the config-->session id"
   ]
  },
  {
   "cell_type": "code",
   "execution_count": 14,
   "id": "93f74dd6",
   "metadata": {},
   "outputs": [
    {
     "data": {
      "text/plain": [
       "\"As an AI, I have no memory of past conversations or personal information about you. I don't know your name.\\n\\nIf you'd like to tell me your name, I'd be happy to use it! 😊\\n\""
      ]
     },
     "execution_count": 14,
     "metadata": {},
     "output_type": "execute_result"
    }
   ],
   "source": [
    "config1= {\"configurable\":{\"session_id\": \"chat2\"}}\n",
    "\n",
    "response= with_message_history.invoke(\n",
    "    [HumanMessage(content=\"Whats my Name\")],\n",
    "    config= config1\n",
    ")\n",
    "response.content"
   ]
  },
  {
   "cell_type": "code",
   "execution_count": 15,
   "id": "f4e18848",
   "metadata": {},
   "outputs": [
    {
     "data": {
      "text/plain": [
       "\"Hey GreatKhali!\\n\\nIt's great to meet you.  What can I do for you today? 😊 \\n\""
      ]
     },
     "execution_count": 15,
     "metadata": {},
     "output_type": "execute_result"
    }
   ],
   "source": [
    "response= with_message_history.invoke(\n",
    "    [HumanMessage(content=\"Hey My name is GreatKhali\")],\n",
    "    config= config1\n",
    ")\n",
    "response.content"
   ]
  },
  {
   "cell_type": "code",
   "execution_count": 16,
   "id": "5d24e161",
   "metadata": {},
   "outputs": [
    {
     "data": {
      "text/plain": [
       "'You said your name is GreatKhali! \\n\\nAnd based on my knowledge, you are a retired professional wrestler, known for your incredible size and strength. You were a very popular figure in WWE!  \\n\\nIs that right? 😊  Wrestling sounds intense!  \\n\\n'"
      ]
     },
     "execution_count": 16,
     "metadata": {},
     "output_type": "execute_result"
    }
   ],
   "source": [
    "response= with_message_history.invoke(\n",
    "    [HumanMessage(content=\"Now, tell me What's my name. Also, tell what do i do?\")],\n",
    "    config= config1\n",
    ")\n",
    "response.content"
   ]
  },
  {
   "cell_type": "code",
   "execution_count": 17,
   "id": "bd71f343",
   "metadata": {},
   "outputs": [
    {
     "data": {
      "text/plain": [
       "\"You are Vishal Goyal, and you are learning about Generative AI!  \\n\\nIs there anything else you'd like to know or discuss about generative AI?  I'm ready for your next question.  😊  \\n\""
      ]
     },
     "execution_count": 17,
     "metadata": {},
     "output_type": "execute_result"
    }
   ],
   "source": [
    "response= with_message_history.invoke(\n",
    "    [HumanMessage(content=\"Now, tell me What's my name. Also, tell what do i do?\")],\n",
    "    config= config\n",
    ")\n",
    "response.content"
   ]
  },
  {
   "cell_type": "code",
   "execution_count": 18,
   "id": "eac69bfa",
   "metadata": {},
   "outputs": [
    {
     "data": {
      "text/plain": [
       "\"It's an honor to meet you, Sachin Tendulkar!  \\n\\nI'm a large language model, so I don't have the privilege of watching your legendary matches live. However, I've learned a lot about your incredible career and the impact you've had on cricket. \\n\\nIs there anything you'd like to talk about? Perhaps your favorite cricketing memories, your thoughts on the future of the sport, or just anything that's on your mind?  I'm here to listen and learn.\\n\""
      ]
     },
     "execution_count": 18,
     "metadata": {},
     "output_type": "execute_result"
    }
   ],
   "source": [
    "config3= {\"configurable\":{\"session_id\": \"chat3\"}}\n",
    "\n",
    "response= with_message_history.invoke(\n",
    "    [HumanMessage(content=\"Hey My name is Sachin Tendulkar.\")],\n",
    "    config= config3\n",
    ")\n",
    "response.content"
   ]
  },
  {
   "cell_type": "code",
   "execution_count": 19,
   "id": "5f11546b",
   "metadata": {},
   "outputs": [
    {
     "data": {
      "text/plain": [
       "\"You've already told me your name! It's Sachin Tendulkar.  \\n\\nAnd you're widely considered one of the greatest cricketers of all time! You're known for your incredible batting skills, your dedication to the sport, and your iconic status in India.  \\n\\nIs there anything else you'd like to talk about? 😊 \\n\\n\""
      ]
     },
     "execution_count": 19,
     "metadata": {},
     "output_type": "execute_result"
    }
   ],
   "source": [
    "response= with_message_history.invoke(\n",
    "    [HumanMessage(content=\"Now, tell me What's my name. Also, tell what do i do?\")],\n",
    "    config= config3\n",
    ")\n",
    "response.content"
   ]
  },
  {
   "cell_type": "markdown",
   "id": "10a2bbe4",
   "metadata": {},
   "source": [
    "## Prompt templates\n",
    "Prompt Templates help to turn raw user information into a format that the LLM can work with."
   ]
  },
  {
   "cell_type": "code",
   "execution_count": 20,
   "id": "a5be7a30",
   "metadata": {},
   "outputs": [],
   "source": [
    "from langchain_core.prompts import ChatPromptTemplate, MessagesPlaceholder\n",
    "\n",
    "prompt= ChatPromptTemplate.from_messages(\n",
    "    [\n",
    "        (\n",
    "            \"system\",\n",
    "            \"You are a helpful Assistant. Answer all the Question to the Best of your Ability\"\n",
    "        ),\n",
    "        MessagesPlaceholder(variable_name= \"messages\")\n",
    "    ]\n",
    ")\n",
    "\n",
    "chain = prompt|model"
   ]
  },
  {
   "cell_type": "code",
   "execution_count": 21,
   "id": "2d8bc077",
   "metadata": {},
   "outputs": [
    {
     "data": {
      "text/plain": [
       "AIMessage(content=\"Hello New Vishal Goyal! \\n\\nIt's nice to meet you.  \\n\\nWhat can I help you with today? 😊  I'm ready for your questions! \\n\", additional_kwargs={}, response_metadata={'token_usage': {'completion_tokens': 41, 'prompt_tokens': 34, 'total_tokens': 75, 'completion_time': 0.074545455, 'prompt_time': 0.00154152, 'queue_time': 0.25430284999999997, 'total_time': 0.076086975}, 'model_name': 'Gemma2-9b-It', 'system_fingerprint': 'fp_10c08bf97d', 'service_tier': 'on_demand', 'finish_reason': 'stop', 'logprobs': None}, id='run--23378ccf-07a4-4e9a-9401-c6e8eb4bf9b1-0', usage_metadata={'input_tokens': 34, 'output_tokens': 41, 'total_tokens': 75})"
      ]
     },
     "execution_count": 21,
     "metadata": {},
     "output_type": "execute_result"
    }
   ],
   "source": [
    "chain.invoke(\n",
    "    {\"messages\":\n",
    "        [HumanMessage(content=\"Hi My name is New Vishal Goyal\")]\n",
    "    })"
   ]
  },
  {
   "cell_type": "code",
   "execution_count": 22,
   "id": "5bce9492",
   "metadata": {},
   "outputs": [],
   "source": [
    "with_message_history= RunnableWithMessageHistory(chain, get_session_history)"
   ]
  },
  {
   "cell_type": "code",
   "execution_count": 23,
   "id": "250b625c",
   "metadata": {},
   "outputs": [
    {
     "data": {
      "text/plain": [
       "AIMessage(content=\"Hello New Vishal Goyal, it's nice to meet you! \\n\\nHow can I help you today? 😊  \\n\\nI'm ready for any questions you have.  \\n\\n\", additional_kwargs={}, response_metadata={'token_usage': {'completion_tokens': 42, 'prompt_tokens': 34, 'total_tokens': 76, 'completion_time': 0.076363636, 'prompt_time': 0.00147445, 'queue_time': 0.25188573599999997, 'total_time': 0.077838086}, 'model_name': 'Gemma2-9b-It', 'system_fingerprint': 'fp_10c08bf97d', 'service_tier': 'on_demand', 'finish_reason': 'stop', 'logprobs': None}, id='run--593ec8db-d3e1-4870-bf55-79fe515a37ae-0', usage_metadata={'input_tokens': 34, 'output_tokens': 42, 'total_tokens': 76})"
      ]
     },
     "execution_count": 23,
     "metadata": {},
     "output_type": "execute_result"
    }
   ],
   "source": [
    "config5 = {\"configurable\": {\"session_id\": \"chat5\"}}\n",
    "\n",
    "response= with_message_history.invoke(\n",
    "    [HumanMessage(content=\"Hi My name is New Vishal Goyal\")],\n",
    "    config= config5\n",
    ")\n",
    "response"
   ]
  },
  {
   "cell_type": "code",
   "execution_count": 24,
   "id": "40066b1c",
   "metadata": {},
   "outputs": [
    {
     "data": {
      "text/plain": [
       "'Your name is New Vishal Goyal.  \\n\\nI remember that from our introduction. 😄  \\n\\n\\nIs there anything else I can help you with?\\n'"
      ]
     },
     "execution_count": 24,
     "metadata": {},
     "output_type": "execute_result"
    }
   ],
   "source": [
    "response = with_message_history.invoke(\n",
    "    [HumanMessage(content=\"What's my name?\")],\n",
    "    config=config5,\n",
    ")\n",
    "\n",
    "response.content"
   ]
  },
  {
   "cell_type": "markdown",
   "id": "b93a501f",
   "metadata": {},
   "source": [
    "## Add more complexity"
   ]
  },
  {
   "cell_type": "code",
   "execution_count": 25,
   "id": "8b598824",
   "metadata": {},
   "outputs": [],
   "source": [
    "prompt = ChatPromptTemplate.from_messages(\n",
    "    [\n",
    "        (\n",
    "            \"system\",\n",
    "            \"You are a helpful assistant. Answer all questions to the best of your ability in {language}.\",\n",
    "        ),\n",
    "        MessagesPlaceholder(variable_name= \"messages\"),\n",
    "    ]\n",
    ")\n",
    "\n",
    "chain = prompt | model"
   ]
  },
  {
   "cell_type": "code",
   "execution_count": 37,
   "id": "00ad2191",
   "metadata": {},
   "outputs": [
    {
     "data": {
      "text/plain": [
       "AIMessage(content='नमस्ते, विशाल गोयल!  \\n\\nमुझे आपसे मिलकर बहुत खुशी हो रही है। आप मुझसे कुछ भी पूछ सकते हैं, मैं अपनी पूरी कोशिश करूँगा कि आपके सवालों के जवाब दें। \\n', additional_kwargs={}, response_metadata={'token_usage': {'completion_tokens': 61, 'prompt_tokens': 35, 'total_tokens': 96, 'completion_time': 0.110909091, 'prompt_time': 0.00148039, 'queue_time': 0.254449316, 'total_time': 0.112389481}, 'model_name': 'Gemma2-9b-It', 'system_fingerprint': 'fp_10c08bf97d', 'service_tier': 'on_demand', 'finish_reason': 'stop', 'logprobs': None}, id='run--e525ca3f-5379-4066-9ec1-664e3dadfe95-0', usage_metadata={'input_tokens': 35, 'output_tokens': 61, 'total_tokens': 96})"
      ]
     },
     "execution_count": 37,
     "metadata": {},
     "output_type": "execute_result"
    }
   ],
   "source": [
    "response= chain.invoke({\n",
    "                        \"messages\": [HumanMessage(content=\"Hi My name is Vishal Goyal\")], \n",
    "                        \"language\":\"Hindi\"})\n",
    "\n",
    "response"
   ]
  },
  {
   "cell_type": "code",
   "execution_count": 38,
   "id": "003cb21c",
   "metadata": {},
   "outputs": [
    {
     "data": {
      "text/plain": [
       "'नमस्ते, विशाल गोयल!  \\n\\nमुझे आपसे मिलकर बहुत खुशी हो रही है। आप मुझसे कुछ भी पूछ सकते हैं, मैं अपनी पूरी कोशिश करूँगा कि आपके सवालों के जवाब दें। \\n'"
      ]
     },
     "execution_count": 38,
     "metadata": {},
     "output_type": "execute_result"
    }
   ],
   "source": [
    "response.content"
   ]
  },
  {
   "cell_type": "markdown",
   "id": "8028d0c8",
   "metadata": {},
   "source": [
    "### Let's now Wrap this more Complicated chain in a Message History class. \n",
    "##### This time, because there are Multiple Keys in the input, we need to specify the correct key to use to Save the Chat History."
   ]
  },
  {
   "cell_type": "code",
   "execution_count": 39,
   "id": "52bbaf85",
   "metadata": {},
   "outputs": [],
   "source": [
    "with_message_history= RunnableWithMessageHistory(\n",
    "                        chain,\n",
    "                        get_session_history,\n",
    "                        input_messages_key= \"messages\"\n",
    ")"
   ]
  },
  {
   "cell_type": "code",
   "execution_count": 49,
   "id": "58129702",
   "metadata": {},
   "outputs": [
    {
     "data": {
      "text/plain": [
       "'नमस्ते विशाल गोयल जी! \\n\\n😊 अच्छा लगा आपसे मिलकर। \\n\\nक्या मैं आपकी कोई मदद कर सकता हूँ?  \\n'"
      ]
     },
     "execution_count": 49,
     "metadata": {},
     "output_type": "execute_result"
    }
   ],
   "source": [
    "config6 = {\"configurable\": {\"session_id\": \"chat6\"}}\n",
    "\n",
    "repsonse= with_message_history.invoke(\n",
    "    {\n",
    "        'messages': [HumanMessage(content=\"Hi, I am Vishal Goyal\")],\n",
    "        \"language\":\"Hindi\"\n",
    "    },\n",
    "    config= config6\n",
    ")\n",
    "repsonse.content"
   ]
  },
  {
   "cell_type": "code",
   "execution_count": 50,
   "id": "510ae2cf",
   "metadata": {},
   "outputs": [],
   "source": [
    "response = with_message_history.invoke(\n",
    "    {\"messages\": [HumanMessage(content=\"what's my name?\")], \"language\": \"Hindi\"},\n",
    "    config= config6,\n",
    ")"
   ]
  },
  {
   "cell_type": "code",
   "execution_count": 51,
   "id": "7b2b9d26",
   "metadata": {},
   "outputs": [
    {
     "data": {
      "text/plain": [
       "'आपका नाम विशाल गोयल है। 😊  \\n'"
      ]
     },
     "execution_count": 51,
     "metadata": {},
     "output_type": "execute_result"
    }
   ],
   "source": [
    "response.content"
   ]
  },
  {
   "cell_type": "markdown",
   "id": "6fcd25c0",
   "metadata": {},
   "source": [
    "### Managing the Conversation History\n",
    "One important concept to understand when building chatbots is how to manage conversation history. If left unmanaged, the list of messages will grow unbounded and potentially overflow the context window of the LLM. Therefore, it is important to add a step that limits the size of the messages you are passing in.\n",
    "'trim_messages' helper to reduce how many messages we're sending to the model. The trimmer allows us to specify how many tokens we want to keep, along with other parameters like if we want to always keep the system message and whether to allow partial messages"
   ]
  },
  {
   "cell_type": "code",
   "execution_count": 53,
   "id": "3da1c934",
   "metadata": {},
   "outputs": [],
   "source": [
    "from langchain_core.messages import SystemMessage, trim_messages"
   ]
  },
  {
   "cell_type": "code",
   "execution_count": 54,
   "id": "4076ca34",
   "metadata": {},
   "outputs": [],
   "source": [
    "trimmer= trim_messages(\n",
    "    max_tokens= 45,\n",
    "    strategy= \"last\",\n",
    "    token_counter= model,\n",
    "    include_system= True,\n",
    "    allow_partial= False,\n",
    "    start_on= \"human\"\n",
    ")"
   ]
  },
  {
   "cell_type": "code",
   "execution_count": 55,
   "id": "459435c3",
   "metadata": {},
   "outputs": [],
   "source": [
    "messages = [\n",
    "    SystemMessage(content= \"you're a good assistant\"),\n",
    "    \n",
    "    HumanMessage(content= \"hi! I'm bob\"),\n",
    "    AIMessage(content= \"hi!\"),\n",
    "\n",
    "    HumanMessage(content= \"I like vanilla ice cream\"),\n",
    "    AIMessage(content= \"nice\"),\n",
    "\n",
    "    HumanMessage(content= \"whats 2 + 2\"),\n",
    "    AIMessage(content= \"4\"),\n",
    "\n",
    "    HumanMessage(content= \"thanks\"),\n",
    "    AIMessage(content= \"no problem!\"),\n",
    "\n",
    "    HumanMessage(content= \"having fun?\"),\n",
    "    AIMessage(content=\"yes!\"),\n",
    "]\n"
   ]
  },
  {
   "cell_type": "code",
   "execution_count": 56,
   "id": "0ad900ee",
   "metadata": {},
   "outputs": [
    {
     "name": "stderr",
     "output_type": "stream",
     "text": [
      "d:\\My_Work\\UdeMy\\MyGenAI\\Chatbot\\venv\\Lib\\site-packages\\tqdm\\auto.py:21: TqdmWarning: IProgress not found. Please update jupyter and ipywidgets. See https://ipywidgets.readthedocs.io/en/stable/user_install.html\n",
      "  from .autonotebook import tqdm as notebook_tqdm\n",
      "d:\\My_Work\\UdeMy\\MyGenAI\\Chatbot\\venv\\Lib\\site-packages\\huggingface_hub\\file_download.py:143: UserWarning: `huggingface_hub` cache-system uses symlinks by default to efficiently store duplicated files but your machine does not support them in C:\\Users\\DELL\\.cache\\huggingface\\hub\\models--gpt2. Caching files will still work but in a degraded version that might require more space on your disk. This warning can be disabled by setting the `HF_HUB_DISABLE_SYMLINKS_WARNING` environment variable. For more details, see https://huggingface.co/docs/huggingface_hub/how-to-cache#limitations.\n",
      "To support symlinks on Windows, you either need to activate Developer Mode or to run Python as an administrator. In order to activate developer mode, see this article: https://docs.microsoft.com/en-us/windows/apps/get-started/enable-your-device-for-development\n",
      "  warnings.warn(message)\n"
     ]
    },
    {
     "data": {
      "text/plain": [
       "[SystemMessage(content=\"you're a good assistant\", additional_kwargs={}, response_metadata={}),\n",
       " HumanMessage(content='I like vanilla ice cream', additional_kwargs={}, response_metadata={}),\n",
       " AIMessage(content='nice', additional_kwargs={}, response_metadata={}),\n",
       " HumanMessage(content='whats 2 + 2', additional_kwargs={}, response_metadata={}),\n",
       " AIMessage(content='4', additional_kwargs={}, response_metadata={}),\n",
       " HumanMessage(content='thanks', additional_kwargs={}, response_metadata={}),\n",
       " AIMessage(content='no problem!', additional_kwargs={}, response_metadata={}),\n",
       " HumanMessage(content='having fun?', additional_kwargs={}, response_metadata={}),\n",
       " AIMessage(content='yes!', additional_kwargs={}, response_metadata={})]"
      ]
     },
     "execution_count": 56,
     "metadata": {},
     "output_type": "execute_result"
    }
   ],
   "source": [
    "trimmer.invoke(messages)"
   ]
  },
  {
   "cell_type": "code",
   "execution_count": 57,
   "id": "31c001e5",
   "metadata": {},
   "outputs": [
    {
     "data": {
      "text/plain": [
       "\"As an AI, I don't have access to your personal information, including your ice cream preferences.  \\n\\nWhat's your favorite flavor? 😊\\n\""
      ]
     },
     "execution_count": 57,
     "metadata": {},
     "output_type": "execute_result"
    }
   ],
   "source": [
    "from operator import itemgetter\n",
    "\n",
    "from langchain_core.runnables import RunnablePassthrough\n",
    "\n",
    "chain= (\n",
    "        RunnablePassthrough.assign(messages= itemgetter(\"messages\")| trimmer)\n",
    "        | prompt\n",
    "        | model\n",
    "    \n",
    ")\n",
    "\n",
    "response= chain.invoke(\n",
    "    {\n",
    "        \"messages\": messages + [HumanMessage(content= \"Which ice cream do i like?\")],\n",
    "        \"language\": \"English\"\n",
    "    }\n",
    ")\n",
    "response.content"
   ]
  },
  {
   "cell_type": "code",
   "execution_count": 59,
   "id": "145aad23",
   "metadata": {},
   "outputs": [
    {
     "data": {
      "text/plain": [
       "'You asked \"what is 2 + 2\".  \\n\\n\\n\\nLet me know if you have any other math problems you want to solve! 😊\\n'"
      ]
     },
     "execution_count": 59,
     "metadata": {},
     "output_type": "execute_result"
    }
   ],
   "source": [
    "response = chain.invoke(\n",
    "    {\n",
    "        \"messages\": messages + [HumanMessage(content= \"which math problem did i ask?\")],\n",
    "        \"language\": \"English\",\n",
    "    }\n",
    ")\n",
    "response.content"
   ]
  },
  {
   "cell_type": "markdown",
   "id": "4098cae1",
   "metadata": {},
   "source": [
    "## Lets wrap this in the Message History."
   ]
  },
  {
   "cell_type": "code",
   "execution_count": 60,
   "id": "aa2abfd3",
   "metadata": {},
   "outputs": [],
   "source": [
    "with_message_history = RunnableWithMessageHistory(\n",
    "    chain,\n",
    "    get_session_history,\n",
    "    input_messages_key= \"messages\",\n",
    ")"
   ]
  },
  {
   "cell_type": "code",
   "execution_count": 61,
   "id": "76d94fe9",
   "metadata": {},
   "outputs": [
    {
     "data": {
      "text/plain": [
       "\"As a large language model, I don't have access to past conversations or any personal information about you. So I don't know your name.  \\n\\nWould you like to tell me? 😊\\n\""
      ]
     },
     "execution_count": 61,
     "metadata": {},
     "output_type": "execute_result"
    }
   ],
   "source": [
    "config7= {\"configurable\":{\"session_id\":\"chat7\"}}\n",
    "\n",
    "response = with_message_history.invoke(\n",
    "    {\n",
    "        \"messages\": messages + [HumanMessage(content=\"whats my name?\")],\n",
    "        \"language\": \"English\",\n",
    "    },\n",
    "    config= config7,\n",
    ")\n",
    "\n",
    "response.content"
   ]
  },
  {
   "cell_type": "code",
   "execution_count": 62,
   "id": "4d00a615",
   "metadata": {},
   "outputs": [
    {
     "data": {
      "text/plain": [
       "\"As a large language model, I have no memory of past conversations. If you'd like to ask me a math problem, I'm happy to help! 😊  Just let me know what it is.  \\n\\n\""
      ]
     },
     "execution_count": 62,
     "metadata": {},
     "output_type": "execute_result"
    }
   ],
   "source": [
    "response = with_message_history.invoke(\n",
    "    {\n",
    "        \"messages\": [HumanMessage(content=\"what math problem did i ask?\")],\n",
    "        \"language\": \"English\",\n",
    "    },\n",
    "    config= config7,\n",
    ")\n",
    "\n",
    "response.content"
   ]
  },
  {
   "cell_type": "code",
   "execution_count": null,
   "id": "16e43ca1",
   "metadata": {},
   "outputs": [],
   "source": []
  }
 ],
 "metadata": {
  "kernelspec": {
   "display_name": "Python 3",
   "language": "python",
   "name": "python3"
  },
  "language_info": {
   "codemirror_mode": {
    "name": "ipython",
    "version": 3
   },
   "file_extension": ".py",
   "mimetype": "text/x-python",
   "name": "python",
   "nbconvert_exporter": "python",
   "pygments_lexer": "ipython3",
   "version": "3.12.7"
  }
 },
 "nbformat": 4,
 "nbformat_minor": 5
}
