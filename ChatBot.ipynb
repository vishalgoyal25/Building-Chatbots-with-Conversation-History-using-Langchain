{
 "cells": [
  {
   "cell_type": "markdown",
   "id": "79365899",
   "metadata": {},
   "source": [
    "## Building A Chatbot\n",
    "\n",
    "Design and implement an LLM-powered chatbot. \n",
    "This chatbot will be able to have a conversation and remember previous interactions.\n"
   ]
  },
  {
   "cell_type": "code",
   "execution_count": 1,
   "id": "41d2b2f8",
   "metadata": {},
   "outputs": [
    {
     "data": {
      "text/plain": [
       "True"
      ]
     },
     "execution_count": 1,
     "metadata": {},
     "output_type": "execute_result"
    }
   ],
   "source": [
    "import os\n",
    "from dotenv import load_dotenv\n",
    "load_dotenv()"
   ]
  },
  {
   "cell_type": "code",
   "execution_count": 2,
   "id": "b3aa4bc0",
   "metadata": {},
   "outputs": [],
   "source": [
    "groq_api_key = os.getenv(\"GROQ_API_KEY\")"
   ]
  },
  {
   "cell_type": "code",
   "execution_count": 3,
   "id": "5b663a08",
   "metadata": {},
   "outputs": [
    {
     "data": {
      "text/plain": [
       "ChatGroq(client=<groq.resources.chat.completions.Completions object at 0x000002C472A557F0>, async_client=<groq.resources.chat.completions.AsyncCompletions object at 0x000002C472A558B0>, model_name='Gemma2-9b-It', model_kwargs={}, groq_api_key=SecretStr('**********'))"
      ]
     },
     "execution_count": 3,
     "metadata": {},
     "output_type": "execute_result"
    }
   ],
   "source": [
    "from langchain_groq import ChatGroq\n",
    "\n",
    "model= ChatGroq(model=\"Gemma2-9b-It\", groq_api_key= groq_api_key)\n",
    "model"
   ]
  },
  {
   "cell_type": "code",
   "execution_count": 4,
   "id": "a73bbf83",
   "metadata": {},
   "outputs": [
    {
     "data": {
      "text/plain": [
       "AIMessage(content=\"Hi Vishal,\\n\\nThat's great! Generative AI is a fascinating and rapidly evolving field. \\n\\nI'm Gemma, a large language model, and I can help you on your learning journey.\\n\\nWhat specifically are you interested in learning about generative AI?\\n\\nFor example, are you curious about:\\n\\n* **Different types of generative models** (like GANs, VAEs, diffusion models)?\\n* **Applications of generative AI** (text generation, image synthesis, music composition)?\\n* **Ethical considerations** surrounding generative AI?\\n* **How to build your own generative models**?\\n\\nTell me more about your goals, and I'll do my best to provide you with relevant information, resources, and guidance. \\n\\nWelcome to the world of generative AI!\\n\", additional_kwargs={}, response_metadata={'token_usage': {'completion_tokens': 164, 'prompt_tokens': 25, 'total_tokens': 189, 'completion_time': 0.298181818, 'prompt_time': 0.00140769, 'queue_time': 0.248455806, 'total_time': 0.299589508}, 'model_name': 'Gemma2-9b-It', 'system_fingerprint': 'fp_10c08bf97d', 'service_tier': 'on_demand', 'finish_reason': 'stop', 'logprobs': None}, id='run--3be59966-620b-4344-916c-9787c38075cb-0', usage_metadata={'input_tokens': 25, 'output_tokens': 164, 'total_tokens': 189})"
      ]
     },
     "execution_count": 4,
     "metadata": {},
     "output_type": "execute_result"
    }
   ],
   "source": [
    "from langchain_core.messages import HumanMessage\n",
    "\n",
    "model.invoke([HumanMessage(content=\"Hi , My name is Vishal Goyal and I am Learning Generative AI\")])"
   ]
  },
  {
   "cell_type": "code",
   "execution_count": 5,
   "id": "d286eec8",
   "metadata": {},
   "outputs": [
    {
     "data": {
      "text/plain": [
       "AIMessage(content=\"You said your name is Vishal Goyal and that you are learning about Generative AI!  😊 \\n\\nIs there anything else you'd like to tell me about yourself?  I'm always eager to learn more. \\n\", additional_kwargs={}, response_metadata={'token_usage': {'completion_tokens': 51, 'prompt_tokens': 186, 'total_tokens': 237, 'completion_time': 0.092727273, 'prompt_time': 0.00440527, 'queue_time': 0.25644568, 'total_time': 0.097132543}, 'model_name': 'Gemma2-9b-It', 'system_fingerprint': 'fp_10c08bf97d', 'service_tier': 'on_demand', 'finish_reason': 'stop', 'logprobs': None}, id='run--394cde83-2c8b-4440-8d72-9157f2f66a0a-0', usage_metadata={'input_tokens': 186, 'output_tokens': 51, 'total_tokens': 237})"
      ]
     },
     "execution_count": 5,
     "metadata": {},
     "output_type": "execute_result"
    }
   ],
   "source": [
    "from langchain_core.messages import AIMessage\n",
    "\n",
    "model.invoke(\n",
    "    [\n",
    "        HumanMessage(content= \"Hi , My name is Vishal Goyal and I am Learning Generative AI\"),\n",
    "        AIMessage(content= \"Hello Vishal Goyal!\\n\\nIt's great to meet you! \\n\\nLearning about Generative AI is exciting. It's a rapidly evolving field with incredible potential. \\n\\nWhat specifically are you interested in learning about generative AI? \\n\\nAre you looking to:\\n\\n* **Understand the fundamental concepts?** \\n* **Explore different types of generative models...like GANs, VAEs, etc.?**\\n* **Learn how to build your own generative AI models?**\\n* **Discover the applications of generative AI in different industries?**\\n\\nTell me more about your goals, and I'll do my best to help you on your generative AI journey!\"),\n",
    "        \n",
    "        HumanMessage(content= \"Hey, What's my name and what do I do?\")\n",
    "    ]\n",
    ")"
   ]
  },
  {
   "cell_type": "markdown",
   "id": "c407a5d9",
   "metadata": {},
   "source": [
    "### Message History"
   ]
  },
  {
   "cell_type": "code",
   "execution_count": 6,
   "id": "e813f886",
   "metadata": {},
   "outputs": [],
   "source": [
    "from langchain_community.chat_message_histories import ChatMessageHistory\n",
    "\n",
    "from langchain_core.chat_history import BaseChatMessageHistory\n",
    "\n",
    "from langchain_core.runnables.history import RunnableWithMessageHistory"
   ]
  },
  {
   "cell_type": "code",
   "execution_count": 7,
   "id": "4458246a",
   "metadata": {},
   "outputs": [],
   "source": [
    "store = {}\n",
    "\n",
    "def get_session_history(session_id:str)-> BaseChatMessageHistory:\n",
    "    if session_id not in store:\n",
    "        store[session_id]= ChatMessageHistory()\n",
    "    return store[session_id]\n",
    "\n",
    "\n",
    "with_message_history= RunnableWithMessageHistory(model, get_session_history)"
   ]
  },
  {
   "cell_type": "code",
   "execution_count": 8,
   "id": "50a397ee",
   "metadata": {},
   "outputs": [],
   "source": [
    "config= {\"configurable\": {\"session_id\": \"chat1\"} }"
   ]
  },
  {
   "cell_type": "code",
   "execution_count": 9,
   "id": "69da62a4",
   "metadata": {},
   "outputs": [
    {
     "data": {
      "text/plain": [
       "AIMessage(content=\"Hi Vishal Goyal,\\n\\nIt's great to meet you!\\n\\nLearning about Generative AI is exciting. It's a rapidly evolving field with incredible potential. \\n\\nWhat aspects of Generative AI are you most interested in?  \\n\\nI can help you explore different areas like:\\n\\n* **Text Generation:**  Creating stories, articles, poems, and more.\\n* **Image Generation:**  Producing images from text descriptions (like DALL-E or Stable Diffusion).\\n* **Code Generation:**  Writing code in various programming languages.\\n* **Music Generation:**  Composing original music pieces.\\n\\nLet me know what you'd like to learn more about, and I'll do my best to assist you.  Good luck with your learning journey!\\n\", additional_kwargs={}, response_metadata={'token_usage': {'completion_tokens': 162, 'prompt_tokens': 25, 'total_tokens': 187, 'completion_time': 0.294545455, 'prompt_time': 0.00140621, 'queue_time': 0.24754161100000002, 'total_time': 0.295951665}, 'model_name': 'Gemma2-9b-It', 'system_fingerprint': 'fp_10c08bf97d', 'service_tier': 'on_demand', 'finish_reason': 'stop', 'logprobs': None}, id='run--f800a45b-f200-4c76-8a9b-1e7558650250-0', usage_metadata={'input_tokens': 25, 'output_tokens': 162, 'total_tokens': 187})"
      ]
     },
     "execution_count": 9,
     "metadata": {},
     "output_type": "execute_result"
    }
   ],
   "source": [
    "response= with_message_history.invoke(\n",
    "        [HumanMessage(content=\"Hi , My name is Vishal Goyal and I am Learning Generative AI\")],\n",
    "        config= config\n",
    ")\n",
    "\n",
    "response"
   ]
  },
  {
   "cell_type": "code",
   "execution_count": 10,
   "id": "8d3ea30e",
   "metadata": {},
   "outputs": [
    {
     "data": {
      "text/plain": [
       "\"Hi Vishal Goyal,\\n\\nIt's great to meet you!\\n\\nLearning about Generative AI is exciting. It's a rapidly evolving field with incredible potential. \\n\\nWhat aspects of Generative AI are you most interested in?  \\n\\nI can help you explore different areas like:\\n\\n* **Text Generation:**  Creating stories, articles, poems, and more.\\n* **Image Generation:**  Producing images from text descriptions (like DALL-E or Stable Diffusion).\\n* **Code Generation:**  Writing code in various programming languages.\\n* **Music Generation:**  Composing original music pieces.\\n\\nLet me know what you'd like to learn more about, and I'll do my best to assist you.  Good luck with your learning journey!\\n\""
      ]
     },
     "execution_count": 10,
     "metadata": {},
     "output_type": "execute_result"
    }
   ],
   "source": [
    "response.content"
   ]
  },
  {
   "cell_type": "code",
   "execution_count": 11,
   "id": "2100bf46",
   "metadata": {},
   "outputs": [
    {
     "data": {
      "text/plain": [
       "AIMessage(content='Your name is Vishal Goyal.  😊 \\n\\nI remember that from our initial introduction!  \\n\\nIs there anything else I can help you with regarding Generative AI?\\n', additional_kwargs={}, response_metadata={'token_usage': {'completion_tokens': 39, 'prompt_tokens': 201, 'total_tokens': 240, 'completion_time': 0.070909091, 'prompt_time': 0.004859999, 'queue_time': 0.251665751, 'total_time': 0.07576909}, 'model_name': 'Gemma2-9b-It', 'system_fingerprint': 'fp_10c08bf97d', 'service_tier': 'on_demand', 'finish_reason': 'stop', 'logprobs': None}, id='run--bce7f9e2-b5c2-4924-8242-87ee2d8d9775-0', usage_metadata={'input_tokens': 201, 'output_tokens': 39, 'total_tokens': 240})"
      ]
     },
     "execution_count": 11,
     "metadata": {},
     "output_type": "execute_result"
    }
   ],
   "source": [
    "with_message_history.invoke(\n",
    "    [HumanMessage(content=\"What's my name?\")],\n",
    "    config= config,\n",
    ")"
   ]
  },
  {
   "cell_type": "markdown",
   "id": "a8015969",
   "metadata": {},
   "source": [
    "#### Let's change the config-->session id"
   ]
  },
  {
   "cell_type": "code",
   "execution_count": 12,
   "id": "93f74dd6",
   "metadata": {},
   "outputs": [
    {
     "data": {
      "text/plain": [
       "\"As an AI, I have no memory of past conversations and do not know your name. If you'd like to tell me, I'd be happy to know! 😊  \\n\\n\""
      ]
     },
     "execution_count": 12,
     "metadata": {},
     "output_type": "execute_result"
    }
   ],
   "source": [
    "config1= {\"configurable\":{\"session_id\": \"chat2\"}}\n",
    "\n",
    "response= with_message_history.invoke(\n",
    "    [HumanMessage(content=\"Whats my Name\")],\n",
    "    config= config1\n",
    ")\n",
    "response.content"
   ]
  },
  {
   "cell_type": "code",
   "execution_count": 13,
   "id": "f4e18848",
   "metadata": {},
   "outputs": [
    {
     "data": {
      "text/plain": [
       "\"It's nice to meet you, GreatKhali!  \\n\\nIs there anything I can help you with today?\\n\""
      ]
     },
     "execution_count": 13,
     "metadata": {},
     "output_type": "execute_result"
    }
   ],
   "source": [
    "response= with_message_history.invoke(\n",
    "    [HumanMessage(content=\"Hey My name is GreatKhali\")],\n",
    "    config= config1\n",
    ")\n",
    "response.content"
   ]
  },
  {
   "cell_type": "code",
   "execution_count": 14,
   "id": "5d24e161",
   "metadata": {},
   "outputs": [
    {
     "data": {
      "text/plain": [
       "\"You've told me your name is GreatKhali!  \\n\\nAnd, you're a renowned professional wrestler!  Known for your impressive size and strength, you've entertained fans worldwide. \\n\\n\\n\\nIs there anything else you'd like to talk about?  \\n\""
      ]
     },
     "execution_count": 14,
     "metadata": {},
     "output_type": "execute_result"
    }
   ],
   "source": [
    "response= with_message_history.invoke(\n",
    "    [HumanMessage(content=\"Now, tell me What's my name. Also, tell what do i do?\")],\n",
    "    config= config1\n",
    ")\n",
    "response.content"
   ]
  },
  {
   "cell_type": "code",
   "execution_count": 15,
   "id": "bd71f343",
   "metadata": {},
   "outputs": [
    {
     "data": {
      "text/plain": [
       "\"You are Vishal Goyal.\\n\\nYou are learning about Generative AI!  \\n\\nIs there anything specific you'd like to know about Generative AI right now?  I'm ready to help.\\n\""
      ]
     },
     "execution_count": 15,
     "metadata": {},
     "output_type": "execute_result"
    }
   ],
   "source": [
    "response= with_message_history.invoke(\n",
    "    [HumanMessage(content=\"Now, tell me What's my name. Also, tell what do i do?\")],\n",
    "    config= config\n",
    ")\n",
    "response.content"
   ]
  },
  {
   "cell_type": "code",
   "execution_count": 16,
   "id": "eac69bfa",
   "metadata": {},
   "outputs": [
    {
     "data": {
      "text/plain": [
       "\"That's amazing!  I know you as one of the greatest cricketers of all time, Sachin Tendulkar. 🏏🏆  \\n\\nIs there anything I can help you with today?  Perhaps you'd like to discuss a particular match, your favourite batting technique, or even just chat about cricket in general?  \\n\\nI'm ready for anything! 😊  \\n\\n\""
      ]
     },
     "execution_count": 16,
     "metadata": {},
     "output_type": "execute_result"
    }
   ],
   "source": [
    "config3= {\"configurable\":{\"session_id\": \"chat3\"}}\n",
    "\n",
    "response= with_message_history.invoke(\n",
    "    [HumanMessage(content=\"Hey My name is Sachin Tendulkar.\")],\n",
    "    config= config3\n",
    ")\n",
    "response.content"
   ]
  },
  {
   "cell_type": "code",
   "execution_count": 17,
   "id": "5f11546b",
   "metadata": {},
   "outputs": [
    {
     "data": {
      "text/plain": [
       "\"You are Sachin Tendulkar, and you are widely regarded as one of the greatest cricketers of all time! 🏏✨ \\n\\nYou've achieved legendary status with your incredible batting skills, numerous records, and your unwavering dedication to the sport.  😊 \\n\\n\\n\\n\""
      ]
     },
     "execution_count": 17,
     "metadata": {},
     "output_type": "execute_result"
    }
   ],
   "source": [
    "response= with_message_history.invoke(\n",
    "    [HumanMessage(content=\"Now, tell me What's my name. Also, tell what do i do?\")],\n",
    "    config= config3\n",
    ")\n",
    "response.content"
   ]
  },
  {
   "cell_type": "code",
   "execution_count": null,
   "id": "a5be7a30",
   "metadata": {},
   "outputs": [],
   "source": []
  }
 ],
 "metadata": {
  "kernelspec": {
   "display_name": "Python 3",
   "language": "python",
   "name": "python3"
  },
  "language_info": {
   "codemirror_mode": {
    "name": "ipython",
    "version": 3
   },
   "file_extension": ".py",
   "mimetype": "text/x-python",
   "name": "python",
   "nbconvert_exporter": "python",
   "pygments_lexer": "ipython3",
   "version": "3.12.7"
  }
 },
 "nbformat": 4,
 "nbformat_minor": 5
}
